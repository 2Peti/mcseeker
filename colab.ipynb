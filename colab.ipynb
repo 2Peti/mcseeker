{
 "cells": [
  {
   "cell_type": "code",
   "execution_count": null,
   "metadata": {},
   "outputs": [],
   "source": [
    "# Import needed pakages\n",
    "import os\n",
    "import argparse\n",
    "import subprocess\n",
    "import shutil"
   ]
  },
  {
   "cell_type": "code",
   "execution_count": null,
   "metadata": {},
   "outputs": [],
   "source": [
    "# Set work directory\n",
    "workDir = \"/content/drive/MyDrive/masscan\"\n",
    "os.environ['workDir'] = workDir"
   ]
  },
  {
   "cell_type": "code",
   "execution_count": null,
   "metadata": {},
   "outputs": [],
   "source": [
    "# Install masscan\n",
    "!apt install masscan -y"
   ]
  },
  {
   "cell_type": "code",
   "execution_count": null,
   "metadata": {},
   "outputs": [],
   "source": [
    "# Generate config\n",
    "!cd $workDir && masscan -p25565-25577 0.0.0.0/0 --max-rate 1000000 -oL result.txt --interactive --echo >> paused.conf"
   ]
  },
  {
   "cell_type": "code",
   "execution_count": null,
   "metadata": {},
   "outputs": [],
   "source": [
    "# Run masscan\n",
    "%%shell\n",
    "sed -i '1s/^/excludefile = exclude.txt\\n/' paused.conf\n",
    "masscan --resume paused.conf -oB result.bin --interactive "
   ]
  },
  {
   "cell_type": "code",
   "execution_count": null,
   "metadata": {},
   "outputs": [],
   "source": [
    "# Convert bin to IP:Port format.\n",
    "!cd $workDir && masscan --readscan result.bin -oL tmp.txt\n",
    "\n",
    "\n",
    "inputfile = f\"{workDir}/tmp.txt\"\n",
    "outputfile = \"/content/out.txt\"\n",
    "\n",
    "fileHandler = open(str(inputfile), \"r\")\n",
    "listOfLines = fileHandler.readlines()\n",
    "fileHandler.close()\n",
    "os.remove(inputfile)\n",
    "\n",
    "text_file = open(outputfile, \"w\")\n",
    "for line in listOfLines:\n",
    "  if line.strip()[0] != \"#\":\n",
    "    text_file.write(line.strip().split(' ',4)[3] + \":\" + line.strip().split(' ',4)[2] + \"\\n\")\n",
    "text_file.close()"
   ]
  },
  {
   "cell_type": "code",
   "execution_count": null,
   "metadata": {},
   "outputs": [],
   "source": [
    "\n",
    "# Install nodejs\n",
    "!apt install nodejs\n",
    "!npm i -g npm"
   ]
  },
  {
   "cell_type": "code",
   "execution_count": null,
   "metadata": {},
   "outputs": [],
   "source": [
    "# Find minecraft servers.\n",
    "%%shell\n",
    "npm install\n",
    "node index.js --in /content/out.txt --out $workDir\"/example.csv\""
   ]
  }
 ],
 "metadata": {
  "kernelspec": {
   "display_name": "Python 3.8.10 64-bit",
   "language": "python",
   "name": "python3"
  },
  "language_info": {
   "name": "python",
   "version": "3.8.10"
  },
  "orig_nbformat": 4,
  "vscode": {
   "interpreter": {
    "hash": "916dbcbb3f70747c44a77c7bcd40155683ae19c65e1c03b4aa3499c5328201f1"
   }
  }
 },
 "nbformat": 4,
 "nbformat_minor": 2
}
